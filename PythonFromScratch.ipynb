{
 "cells": [
  {
   "cell_type": "code",
   "execution_count": 1,
   "metadata": {},
   "outputs": [],
   "source": [
    "Name= \"Jon Smith\"\n",
    "Age=\"20\"\n",
    "New_Patient=True\n"
   ]
  },
  {
   "cell_type": "code",
   "execution_count": 3,
   "metadata": {},
   "outputs": [
    {
     "name": "stdout",
     "output_type": "stream",
     "text": [
      "What is your name?Nitish\n",
      "HI Nitish. I am Computer\n"
     ]
    }
   ],
   "source": [
    "name=input(\"What is your name?\")\n",
    "print('HI ' +name+ \".\" \" I am Computer\")"
   ]
  },
  {
   "cell_type": "code",
   "execution_count": 3,
   "metadata": {},
   "outputs": [
    {
     "name": "stdout",
     "output_type": "stream",
     "text": [
      "What is your name?Nitish\n",
      "What is your favourite color?Red\n",
      "Nitish Likes Red.\n"
     ]
    }
   ],
   "source": [
    "name=input(\"What is your name?\")\n",
    "color=input(\"What is your favourite color?\")\n",
    "print(name+ \" Likes \" +color+ \".\")"
   ]
  },
  {
   "cell_type": "code",
   "execution_count": 10,
   "metadata": {},
   "outputs": [
    {
     "name": "stdout",
     "output_type": "stream",
     "text": [
      "Input your weight2\n",
      "Your weight is 22222222222222222222 Kg\n"
     ]
    }
   ],
   "source": [
    "weight_by_lbs=input(\"Input your weight\")\n",
    "weight_by_kilos=(weight_by_lbs)*20\n",
    "print(\"Your weight is \"+weight_by_kilos+ \" Kg\")\n"
   ]
  },
  {
   "cell_type": "code",
   "execution_count": 62,
   "metadata": {},
   "outputs": [
    {
     "name": "stdout",
     "output_type": "stream",
     "text": [
      "kt iNim \n",
      "kahtaP hsitiN si eman yM\n"
     ]
    }
   ],
   "source": [
    "Cou=\"My name is Nitish Pathak\"\n",
    "print(Cou[len(Cou)-1::-3])\n",
    "print(Cou[len(Cou)-1::-1])"
   ]
  },
  {
   "cell_type": "code",
   "execution_count": 63,
   "metadata": {},
   "outputs": [
    {
     "name": "stdout",
     "output_type": "stream",
     "text": [
      "Nitish Pathak is a coder\n"
     ]
    }
   ],
   "source": [
    "first='Nitish'\n",
    "last='Pathak'\n",
    "msg=f'{first} {last} is a coder'\n",
    "print(msg)"
   ]
  },
  {
   "cell_type": "code",
   "execution_count": 69,
   "metadata": {},
   "outputs": [
    {
     "name": "stdout",
     "output_type": "stream",
     "text": [
      "MY NAME IS NITISH PATHAK\n",
      "my name is nitish pathak\n",
      "23\n",
      "My name is Nischal Pathak\n",
      "True\n"
     ]
    }
   ],
   "source": [
    "print(Cou.upper())\n",
    "print(Cou.lower())\n",
    "print(Cou.find('k'))\n",
    "print(Cou.replace('Nitish','Nischal'))\n",
    "print('Nitish' in Cou)\n",
    "\n"
   ]
  },
  {
   "cell_type": "code",
   "execution_count": 75,
   "metadata": {},
   "outputs": [
    {
     "name": "stdout",
     "output_type": "stream",
     "text": [
      "2\n"
     ]
    }
   ],
   "source": [
    "import math\n",
    "print(math.floor(2.9))"
   ]
  },
  {
   "cell_type": "code",
   "execution_count": 79,
   "metadata": {},
   "outputs": [
    {
     "name": "stdout",
     "output_type": "stream",
     "text": [
      "Its a lovely day\n"
     ]
    }
   ],
   "source": [
    "_isHot=False\n",
    "_isCold=False\n",
    "\n",
    "if _isHot:\n",
    "    print(\"Its a hot day\")\n",
    "    print(\"Drink Plenty of water\")\n",
    "elif _isCold:\n",
    "    print(\"Its a cold day\")\n",
    "    print(\"wear warm cold\")\n",
    "else:\n",
    "    print(\"Its a lovely day\")\n",
    "    \n",
    "    "
   ]
  },
  {
   "cell_type": "code",
   "execution_count": 86,
   "metadata": {},
   "outputs": [
    {
     "name": "stdout",
     "output_type": "stream",
     "text": [
      "Your downpayment is $10.0\n"
     ]
    }
   ],
   "source": [
    "p=100\n",
    "has_good_credit=True\n",
    "if has_good_credit:\n",
    "    down_payment=p*0.1\n",
    "else:\n",
    "    down_payment=p*0.2\n",
    "print(f\"Your downpayment is ${down_payment}\")    "
   ]
  },
  {
   "cell_type": "code",
   "execution_count": 94,
   "metadata": {},
   "outputs": [
    {
     "name": "stdout",
     "output_type": "stream",
     "text": [
      "good enough\n"
     ]
    }
   ],
   "source": [
    "name=\"Ramesh\"\n",
    "if(len(name)< 3):\n",
    "    print(\"name must be more than 3 characters\")\n",
    "elif(len(name)>10):\n",
    "    print(\"Ka tetro name hunxa ta?\")\n",
    "else:\n",
    "    print(\"good enough\")"
   ]
  },
  {
   "cell_type": "code",
   "execution_count": 104,
   "metadata": {},
   "outputs": [
    {
     "name": "stdout",
     "output_type": "stream",
     "text": [
      "Input your weigh23\n",
      "(L)bs or (K)gL\n",
      "Your weight is 460kg\n"
     ]
    }
   ],
   "source": [
    "weight=int(input(\"Input your weigh\"))\n",
    "unit=input(\"(L)bs or (K)g\")\n",
    "if unit.lower()==\"l\":\n",
    "    e=weight*20\n",
    "    print(f\"Your weight is {e}kg\")\n",
    "else:\n",
    "    e=weight*25\n",
    "    print(f\"Your weight is {e}lb\")    \n"
   ]
  },
  {
   "cell_type": "code",
   "execution_count": 107,
   "metadata": {},
   "outputs": [
    {
     "name": "stdout",
     "output_type": "stream",
     "text": [
      "*\n",
      "**\n",
      "***\n",
      "****\n",
      "*****\n"
     ]
    }
   ],
   "source": [
    "i=1\n",
    "while i<=5:\n",
    "    print(\"*\" * i)\n",
    "    i=i+1"
   ]
  },
  {
   "cell_type": "code",
   "execution_count": 3,
   "metadata": {},
   "outputs": [
    {
     "name": "stdout",
     "output_type": "stream",
     "text": [
      "Guess ?9\n",
      "You Win\n"
     ]
    }
   ],
   "source": [
    "Secret_number=9\n",
    "guess_count=0\n",
    "guess_limit=3\n",
    "\n",
    "while guess_count < guess_limit:\n",
    "    guess=int((input(\"Guess ?\")))\n",
    "    guess_count=guess_count+1\n",
    "    if guess==Secret_number:\n",
    "        print(\"You Win\")\n",
    "        break\n",
    "else:\n",
    "    print(\"You failed\")    \n",
    "    "
   ]
  },
  {
   "cell_type": "code",
   "execution_count": 4,
   "metadata": {},
   "outputs": [
    {
     "name": "stdout",
     "output_type": "stream",
     "text": [
      ">s\n",
      "I dont understand\n",
      ">start\n",
      "The car has started\n",
      ">quit\n",
      "I dont understand\n"
     ]
    }
   ],
   "source": [
    "command=\"\"\n",
    "while command.lower()!=\"quit\":\n",
    "    command=input(\">\").lower()\n",
    "    if command.lower()==\"start\":\n",
    "        print(\"The car has started\")\n",
    "    elif command.lower()==\"stop\":\n",
    "        print(\"The car has stopped\")\n",
    "    elif command.lower()==\"help\":\n",
    "        print(\"Guess start to start a car. stop to stop and quit if you want to quit\")\n",
    "    else:\n",
    "        print(\"I dont understand\")\n",
    "\n"
   ]
  },
  {
   "cell_type": "code",
   "execution_count": 6,
   "metadata": {},
   "outputs": [
    {
     "name": "stdout",
     "output_type": "stream",
     "text": [
      "5\n",
      "7\n",
      "9\n"
     ]
    }
   ],
   "source": [
    "for item in range(5,10,2):\n",
    "    print(item)"
   ]
  },
  {
   "cell_type": "code",
   "execution_count": 12,
   "metadata": {},
   "outputs": [
    {
     "name": "stdout",
     "output_type": "stream",
     "text": [
      "Total=85\n"
     ]
    }
   ],
   "source": [
    "prices=[10,22,21,32]\n",
    "total=0\n",
    "for price in prices:\n",
    "    total+=price\n",
    "print(f\"Total={total}\")"
   ]
  },
  {
   "cell_type": "code",
   "execution_count": 13,
   "metadata": {},
   "outputs": [
    {
     "name": "stdout",
     "output_type": "stream",
     "text": [
      "(0,0)\n",
      "(0,1)\n",
      "(0,2)\n",
      "(1,0)\n",
      "(1,1)\n",
      "(1,2)\n",
      "(2,0)\n",
      "(2,1)\n",
      "(2,2)\n",
      "(3,0)\n",
      "(3,1)\n",
      "(3,2)\n"
     ]
    }
   ],
   "source": [
    "for x in range(4):\n",
    "    for y in range(3):\n",
    "        print(f'({x},{y})')"
   ]
  },
  {
   "cell_type": "code",
   "execution_count": 17,
   "metadata": {},
   "outputs": [
    {
     "name": "stdout",
     "output_type": "stream",
     "text": [
      "xxxxx\n",
      "xx\n",
      "xxxxx\n",
      "xx\n",
      "xx\n"
     ]
    }
   ],
   "source": [
    "#Make f\n",
    "number=[5,2,5,2,2]\n",
    "for x_count in number:\n",
    "    output=''\n",
    "    for count in range(x_count):\n",
    "        output+='x'\n",
    "    print(output)\n",
    "        "
   ]
  },
  {
   "cell_type": "code",
   "execution_count": 24,
   "metadata": {},
   "outputs": [
    {
     "name": "stdout",
     "output_type": "stream",
     "text": [
      "6\n"
     ]
    }
   ],
   "source": [
    "# To print the largest number\n",
    "numbers=[1,2,3,4,5,6]\n",
    "max=numbers[0]\n",
    "for number in numbers:\n",
    "    if number>max:\n",
    "        max=number\n",
    "print(max)    "
   ]
  },
  {
   "cell_type": "code",
   "execution_count": 27,
   "metadata": {},
   "outputs": [
    {
     "name": "stdout",
     "output_type": "stream",
     "text": [
      "[2, 5, 6, 7]\n"
     ]
    }
   ],
   "source": [
    "numbers=[2,2,5,2,5,6,7]\n",
    "unique=[]\n",
    "for number in numbers:\n",
    "    if number not in unique:\n",
    "        unique.append(number)\n",
    "print(unique)        \n",
    "        \n"
   ]
  },
  {
   "cell_type": "code",
   "execution_count": 1,
   "metadata": {},
   "outputs": [
    {
     "name": "stdout",
     "output_type": "stream",
     "text": [
      "16\n"
     ]
    }
   ],
   "source": [
    "\n",
    "# Return is to return the value to the caller of the function\n",
    "def square(number):\n",
    "    return number * number\n",
    "\n",
    "print(square(4))\n",
    "     \n",
    "# square function call hunxa. tesle 4 lagera mathi compute garxa. 16 lai return gardinxa ani print le print hanxa"
   ]
  },
  {
   "cell_type": "code",
   "execution_count": 3,
   "metadata": {},
   "outputs": [
    {
     "name": "stdout",
     "output_type": "stream",
     "text": [
      "Draw\n"
     ]
    }
   ],
   "source": [
    "class Point:\n",
    "    def move(self):\n",
    "        print(\"Self\")\n",
    "    def draw(self):\n",
    "        print(\"Draw\")\n",
    "        \n",
    "Point1=Point()\n",
    "Point1.draw()\n",
    "    \n",
    "    "
   ]
  },
  {
   "cell_type": "code",
   "execution_count": 8,
   "metadata": {},
   "outputs": [
    {
     "name": "stdout",
     "output_type": "stream",
     "text": [
      "Jon\n",
      "Hi i am Jon\n",
      "Hi i am ROshan\n"
     ]
    }
   ],
   "source": [
    "class Person:\n",
    "    def __init__(self,name):\n",
    "        self.name=name\n",
    "        \n",
    "    def Talk(self):\n",
    "        print(f\"Hi i am {self.name}\")\n",
    "        \n",
    "Person1=Person(\"Jon\")\n",
    "print(Person1.name)\n",
    "Person1.Talk()\n",
    "\n",
    "Person2=Person(\"ROshan\")\n",
    "Person2.Talk()"
   ]
  },
  {
   "cell_type": "code",
   "execution_count": null,
   "metadata": {},
   "outputs": [],
   "source": []
  },
  {
   "cell_type": "code",
   "execution_count": 30,
   "metadata": {},
   "outputs": [
    {
     "name": "stdout",
     "output_type": "stream",
     "text": [
      "Walk\n",
      "Walk\n",
      "Eats\n"
     ]
    }
   ],
   "source": [
    "class Mammal:\n",
    "    def walk(self):\n",
    "        print(\"Walk\")\n",
    "        \n",
    "class Dog(Mammal):\n",
    "    def eat(self):\n",
    "        print(\"Eats\")\n",
    "class Cat(Mammal):\n",
    "    pass\n",
    "\n",
    "doggy=Dog()\n",
    "doggy.walk() \n",
    "cat=Cat()\n",
    "cat.walk()\n",
    "\n",
    "doggy.eat()"
   ]
  },
  {
   "cell_type": "code",
   "execution_count": null,
   "metadata": {},
   "outputs": [],
   "source": []
  }
 ],
 "metadata": {
  "kernelspec": {
   "display_name": "Python 3",
   "language": "python",
   "name": "python3"
  },
  "language_info": {
   "codemirror_mode": {
    "name": "ipython",
    "version": 3
   },
   "file_extension": ".py",
   "mimetype": "text/x-python",
   "name": "python",
   "nbconvert_exporter": "python",
   "pygments_lexer": "ipython3",
   "version": "3.6.4"
  }
 },
 "nbformat": 4,
 "nbformat_minor": 2
}

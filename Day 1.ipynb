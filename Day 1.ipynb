{
 "cells": [
  {
   "cell_type": "markdown",
   "metadata": {},
   "source": [
    "# <center> Keras </center>\n",
    "Keras is known as 'horn' on greek and is inspired from Odyssey. But here on ML, Keras is a Machine Learning library which is a high-level neural networks API, written in Python and capable of running on top of TensorFlow, CNTK, or Theano. Due to easier and short code, Keras is flexible and like Drag and Drop of Machine Learning. \n",
    "\n",
    "## Basics components required for preparing Keras ML model\n",
    "* Importing Dependencies \n",
    "* Preprocess Dataset\n",
    "* Model Creation\n",
    "* Compiling Model\n",
    "* Defining Optimizer\n",
    "* Model Training\n",
    "* Model Testing\n",
    "* Model Visualizing\n",
    "* Model Saving\n",
    "\n"
   ]
  },
  {
   "cell_type": "markdown",
   "metadata": {
    "ExecuteTime": {
     "end_time": "2019-09-19T08:43:54.837663Z",
     "start_time": "2019-09-19T08:43:54.834666Z"
    }
   },
   "source": [
    "## Importing Dependencies"
   ]
  },
  {
   "cell_type": "code",
   "execution_count": 1,
   "metadata": {
    "ExecuteTime": {
     "end_time": "2019-11-19T12:18:04.076875Z",
     "start_time": "2019-11-19T12:18:03.974173Z"
    }
   },
   "outputs": [
    {
     "name": "stderr",
     "output_type": "stream",
     "text": [
      "D:\\Anaconda\\lib\\site-packages\\h5py\\__init__.py:36: FutureWarning: Conversion of the second argument of issubdtype from `float` to `np.floating` is deprecated. In future, it will be treated as `np.float64 == np.dtype(float).type`.\n",
      "  from ._conv import register_converters as _register_converters\n",
      "Using TensorFlow backend.\n"
     ]
    }
   ],
   "source": [
    "import keras\n",
    "import tensorflow as tf\n",
    "from tensorflow.keras.models import Sequential # Sequential is the simplest model of NN \n",
    "from tensorflow.keras.layers import Dense # Dense is the layer of feed forward \n",
    "import numpy as np # Numpy for array operations\n",
    "import matplotlib.pyplot as plt # To visualize training process"
   ]
  },
  {
   "cell_type": "code",
   "execution_count": 2,
   "metadata": {
    "ExecuteTime": {
     "end_time": "2019-11-18T16:05:56.952123Z",
     "start_time": "2019-11-18T16:05:56.945146Z"
    }
   },
   "outputs": [
    {
     "name": "stdout",
     "output_type": "stream",
     "text": [
      "2.0.0\n",
      "2.2.4\n"
     ]
    }
   ],
   "source": [
    "print(tf.__version__)\n",
    "print(keras.__version__)"
   ]
  },
  {
   "cell_type": "markdown",
   "metadata": {},
   "source": [
    "## Preprocess Dataset\n",
    "Preprocessing a dataset includes normalizing, cleaning etc. Normalization of dataset always reduces computation of training.\n",
    "\n",
    "If we have categorical data, we should convert them into keras categorical. We can use <code> keras.utils.to_categorical(y, num_classes=2)</code> for this."
   ]
  },
  {
   "cell_type": "code",
   "execution_count": 2,
   "metadata": {
    "ExecuteTime": {
     "end_time": "2019-11-18T16:05:56.968135Z",
     "start_time": "2019-11-18T16:05:56.957121Z"
    }
   },
   "outputs": [
    {
     "ename": "SyntaxError",
     "evalue": "invalid syntax (<ipython-input-2-f009fba79136>, line 5)",
     "output_type": "error",
     "traceback": [
      "\u001b[1;36m  File \u001b[1;32m\"<ipython-input-2-f009fba79136>\"\u001b[1;36m, line \u001b[1;32m5\u001b[0m\n\u001b[1;33m    x = [1, 1, ,2, 3]\u001b[0m\n\u001b[1;37m               ^\u001b[0m\n\u001b[1;31mSyntaxError\u001b[0m\u001b[1;31m:\u001b[0m invalid syntax\n"
     ]
    }
   ],
   "source": [
    "x = np.linspace(-1, 1, 101) # generate data from 0 to 1\n",
    "\n",
    "y = 2 * x # find twice of input data\n",
    "\n",
    "x = [1, 1, ,2, 3]\n",
    "y = [[1, 2]]"
   ]
  },
  {
   "cell_type": "markdown",
   "metadata": {},
   "source": [
    "## Model Creation\n",
    "We will add simple layers on Sequential model."
   ]
  },
  {
   "cell_type": "code",
   "execution_count": 4,
   "metadata": {
    "ExecuteTime": {
     "end_time": "2019-11-18T16:05:57.044072Z",
     "start_time": "2019-11-18T16:05:56.973113Z"
    }
   },
   "outputs": [
    {
     "name": "stdout",
     "output_type": "stream",
     "text": [
      "Model: \"sequential\"\n",
      "_________________________________________________________________\n",
      "Layer (type)                 Output Shape              Param #   \n",
      "=================================================================\n",
      "dense (Dense)                (None, 1)                 2         \n",
      "=================================================================\n",
      "Total params: 2\n",
      "Trainable params: 2\n",
      "Non-trainable params: 0\n",
      "_________________________________________________________________\n"
     ]
    }
   ],
   "source": [
    "model = Sequential() # Here model is the object of class Sequential\n",
    "\n",
    "# model.add(Input(101))\n",
    "model.add(Dense(1, input_shape = 1, activation = 'linear')) # input layer \n",
    "# model.add(Dense(1)) # Output layer with only one node\n",
    "model.summary()"
   ]
  },
  {
   "cell_type": "markdown",
   "metadata": {
    "ExecuteTime": {
     "end_time": "2019-09-19T11:11:10.499296Z",
     "start_time": "2019-09-19T11:11:10.494299Z"
    }
   },
   "source": [
    "### Activation Functions\n",
    "\n",
    "<img src = \"https://miro.medium.com/max/1600/1*RD0lIYqB5L2LrI2VTIZqGw.png\">\n",
    "\n"
   ]
  },
  {
   "cell_type": "markdown",
   "metadata": {},
   "source": [
    "## Model Compiling\n",
    "Compiling a model requires optimizer and loss function as parameter."
   ]
  },
  {
   "cell_type": "code",
   "execution_count": 5,
   "metadata": {
    "ExecuteTime": {
     "end_time": "2019-11-18T16:05:57.107041Z",
     "start_time": "2019-11-18T16:05:57.050068Z"
    }
   },
   "outputs": [],
   "source": [
    "model.compile('sgd', 'mean_squared_error', metrics=['mse', 'mae', 'acc'])"
   ]
  },
  {
   "cell_type": "markdown",
   "metadata": {},
   "source": [
    "### Optimizers\n",
    "#### Gradient Descent\n",
    "<img src = \"https://miro.medium.com/max/2100/1*n79s9gvd0E8ALe9dLUEKAw.png\">\n",
    "\n",
    "#### l\n"
   ]
  },
  {
   "cell_type": "markdown",
   "metadata": {
    "ExecuteTime": {
     "end_time": "2019-09-19T09:30:59.797895Z",
     "start_time": "2019-09-19T09:30:59.789900Z"
    }
   },
   "source": [
    "## Model Training\n",
    "<code>model.fit()</code> does training which requires input training data, target labels, batch size, epochs etc and we can also add validation data."
   ]
  },
  {
   "cell_type": "code",
   "execution_count": 6,
   "metadata": {
    "ExecuteTime": {
     "end_time": "2019-11-18T16:06:00.207089Z",
     "start_time": "2019-11-18T16:05:57.110034Z"
    }
   },
   "outputs": [
    {
     "name": "stdout",
     "output_type": "stream",
     "text": [
      "WARNING:tensorflow:The `nb_epoch` argument in `fit` has been renamed `epochs`.\n",
      "Train on 101 samples\n",
      "Epoch 1/100\n",
      "101/101 [==============================] - 1s 11ms/sample - loss: 1.5805\n",
      "Epoch 2/100\n",
      "101/101 [==============================] - 0s 139us/sample - loss: 1.4866\n",
      "Epoch 3/100\n",
      "101/101 [==============================] - 0s 158us/sample - loss: 1.4081\n",
      "Epoch 4/100\n",
      "101/101 [==============================] - 0s 129us/sample - loss: 1.3326\n",
      "Epoch 5/100\n",
      "101/101 [==============================] - 0s 129us/sample - loss: 1.2615\n",
      "Epoch 6/100\n",
      "101/101 [==============================] - 0s 198us/sample - loss: 1.1914\n",
      "Epoch 7/100\n",
      "101/101 [==============================] - 0s 158us/sample - loss: 1.1256\n",
      "Epoch 8/100\n",
      "101/101 [==============================] - 0s 178us/sample - loss: 1.0631\n",
      "Epoch 9/100\n",
      "101/101 [==============================] - 0s 119us/sample - loss: 1.0076\n",
      "Epoch 10/100\n",
      "101/101 [==============================] - 0s 178us/sample - loss: 0.9611\n",
      "Epoch 11/100\n",
      "101/101 [==============================] - 0s 168us/sample - loss: 0.9088\n",
      "Epoch 12/100\n",
      "101/101 [==============================] - 0s 138us/sample - loss: 0.8639\n",
      "Epoch 13/100\n",
      "101/101 [==============================] - 0s 198us/sample - loss: 0.8189\n",
      "Epoch 14/100\n",
      "101/101 [==============================] - 0s 119us/sample - loss: 0.7792\n",
      "Epoch 15/100\n",
      "101/101 [==============================] - 0s 138us/sample - loss: 0.7397\n",
      "Epoch 16/100\n",
      "101/101 [==============================] - 0s 198us/sample - loss: 0.6992\n",
      "Epoch 17/100\n",
      "101/101 [==============================] - 0s 139us/sample - loss: 0.6644\n",
      "Epoch 18/100\n",
      "101/101 [==============================] - 0s 138us/sample - loss: 0.6333\n",
      "Epoch 19/100\n",
      "101/101 [==============================] - 0s 168us/sample - loss: 0.6023\n",
      "Epoch 20/100\n",
      "101/101 [==============================] - 0s 139us/sample - loss: 0.5696\n",
      "Epoch 21/100\n",
      "101/101 [==============================] - 0s 188us/sample - loss: 0.5387\n",
      "Epoch 22/100\n",
      "101/101 [==============================] - 0s 159us/sample - loss: 0.5057\n",
      "Epoch 23/100\n",
      "101/101 [==============================] - 0s 159us/sample - loss: 0.4760\n",
      "Epoch 24/100\n",
      "101/101 [==============================] - 0s 158us/sample - loss: 0.4495\n",
      "Epoch 25/100\n",
      "101/101 [==============================] - 0s 178us/sample - loss: 0.4261\n",
      "Epoch 26/100\n",
      "101/101 [==============================] - 0s 178us/sample - loss: 0.4026\n",
      "Epoch 27/100\n",
      "101/101 [==============================] - 0s 188us/sample - loss: 0.3826\n",
      "Epoch 28/100\n",
      "101/101 [==============================] - 0s 168us/sample - loss: 0.3604\n",
      "Epoch 29/100\n",
      "101/101 [==============================] - 0s 168us/sample - loss: 0.3398\n",
      "Epoch 30/100\n",
      "101/101 [==============================] - 0s 158us/sample - loss: 0.3233\n",
      "Epoch 31/100\n",
      "101/101 [==============================] - 0s 218us/sample - loss: 0.3062\n",
      "Epoch 32/100\n",
      "101/101 [==============================] - 0s 158us/sample - loss: 0.2878\n",
      "Epoch 33/100\n",
      "101/101 [==============================] - 0s 188us/sample - loss: 0.2731\n",
      "Epoch 34/100\n",
      "101/101 [==============================] - 0s 178us/sample - loss: 0.2585\n",
      "Epoch 35/100\n",
      "101/101 [==============================] - 0s 119us/sample - loss: 0.2452\n",
      "Epoch 36/100\n",
      "101/101 [==============================] - 0s 158us/sample - loss: 0.2312\n",
      "Epoch 37/100\n",
      "101/101 [==============================] - 0s 148us/sample - loss: 0.2195\n",
      "Epoch 38/100\n",
      "101/101 [==============================] - ETA: 0s - loss: 0.194 - 0s 148us/sample - loss: 0.2085\n",
      "Epoch 39/100\n",
      "101/101 [==============================] - 0s 139us/sample - loss: 0.1966\n",
      "Epoch 40/100\n",
      "101/101 [==============================] - 0s 139us/sample - loss: 0.1860\n",
      "Epoch 41/100\n",
      "101/101 [==============================] - 0s 129us/sample - loss: 0.1758\n",
      "Epoch 42/100\n",
      "101/101 [==============================] - 0s 139us/sample - loss: 0.1671\n",
      "Epoch 43/100\n",
      "101/101 [==============================] - 0s 188us/sample - loss: 0.1581\n",
      "Epoch 44/100\n",
      "101/101 [==============================] - 0s 168us/sample - loss: 0.1502\n",
      "Epoch 45/100\n",
      "101/101 [==============================] - 0s 129us/sample - loss: 0.1427\n",
      "Epoch 46/100\n",
      "101/101 [==============================] - 0s 178us/sample - loss: 0.1357\n",
      "Epoch 47/100\n",
      "101/101 [==============================] - 0s 178us/sample - loss: 0.1289\n",
      "Epoch 48/100\n",
      "101/101 [==============================] - 0s 158us/sample - loss: 0.1226\n",
      "Epoch 49/100\n",
      "101/101 [==============================] - 0s 139us/sample - loss: 0.1168\n",
      "Epoch 50/100\n",
      "101/101 [==============================] - 0s 148us/sample - loss: 0.1103\n",
      "Epoch 51/100\n",
      "101/101 [==============================] - 0s 129us/sample - loss: 0.1037\n",
      "Epoch 52/100\n",
      "101/101 [==============================] - 0s 158us/sample - loss: 0.0984\n",
      "Epoch 53/100\n",
      "101/101 [==============================] - 0s 178us/sample - loss: 0.0937\n",
      "Epoch 54/100\n",
      "101/101 [==============================] - 0s 148us/sample - loss: 0.0885\n",
      "Epoch 55/100\n",
      "101/101 [==============================] - 0s 168us/sample - loss: 0.0839\n",
      "Epoch 56/100\n",
      "101/101 [==============================] - 0s 119us/sample - loss: 0.0798\n",
      "Epoch 57/100\n",
      "101/101 [==============================] - 0s 168us/sample - loss: 0.0751\n",
      "Epoch 58/100\n",
      "101/101 [==============================] - 0s 139us/sample - loss: 0.0714\n",
      "Epoch 59/100\n",
      "101/101 [==============================] - 0s 158us/sample - loss: 0.0673\n",
      "Epoch 60/100\n",
      "101/101 [==============================] - 0s 208us/sample - loss: 0.0637\n",
      "Epoch 61/100\n",
      "101/101 [==============================] - 0s 109us/sample - loss: 0.0604\n",
      "Epoch 62/100\n",
      "101/101 [==============================] - 0s 138us/sample - loss: 0.0573\n",
      "Epoch 63/100\n",
      "101/101 [==============================] - 0s 158us/sample - loss: 0.0545\n",
      "Epoch 64/100\n",
      "101/101 [==============================] - 0s 139us/sample - loss: 0.0517\n",
      "Epoch 65/100\n",
      "101/101 [==============================] - 0s 168us/sample - loss: 0.0490\n",
      "Epoch 66/100\n",
      "101/101 [==============================] - 0s 148us/sample - loss: 0.0466\n",
      "Epoch 67/100\n",
      "101/101 [==============================] - 0s 139us/sample - loss: 0.0444\n",
      "Epoch 68/100\n",
      "101/101 [==============================] - 0s 198us/sample - loss: 0.0418\n",
      "Epoch 69/100\n",
      "101/101 [==============================] - 0s 168us/sample - loss: 0.0390\n",
      "Epoch 70/100\n",
      "101/101 [==============================] - 0s 148us/sample - loss: 0.0368\n",
      "Epoch 71/100\n",
      "101/101 [==============================] - 0s 119us/sample - loss: 0.0349\n",
      "Epoch 72/100\n",
      "101/101 [==============================] - 0s 129us/sample - loss: 0.0328\n",
      "Epoch 73/100\n",
      "101/101 [==============================] - 0s 109us/sample - loss: 0.0310\n",
      "Epoch 74/100\n",
      "101/101 [==============================] - 0s 148us/sample - loss: 0.0294\n",
      "Epoch 75/100\n",
      "101/101 [==============================] - 0s 129us/sample - loss: 0.0277\n",
      "Epoch 76/100\n",
      "101/101 [==============================] - 0s 109us/sample - loss: 0.0263\n",
      "Epoch 77/100\n",
      "101/101 [==============================] - 0s 109us/sample - loss: 0.0252\n",
      "Epoch 78/100\n",
      "101/101 [==============================] - 0s 119us/sample - loss: 0.0239\n",
      "Epoch 79/100\n",
      "101/101 [==============================] - 0s 129us/sample - loss: 0.0226\n",
      "Epoch 80/100\n",
      "101/101 [==============================] - 0s 129us/sample - loss: 0.0215\n",
      "Epoch 81/100\n",
      "101/101 [==============================] - 0s 119us/sample - loss: 0.0202\n",
      "Epoch 82/100\n",
      "101/101 [==============================] - 0s 138us/sample - loss: 0.0190\n",
      "Epoch 83/100\n",
      "101/101 [==============================] - 0s 148us/sample - loss: 0.0180\n",
      "Epoch 84/100\n",
      "101/101 [==============================] - 0s 129us/sample - loss: 0.0170\n",
      "Epoch 85/100\n",
      "101/101 [==============================] - 0s 129us/sample - loss: 0.0160\n",
      "Epoch 86/100\n",
      "101/101 [==============================] - 0s 119us/sample - loss: 0.0153\n",
      "Epoch 87/100\n",
      "101/101 [==============================] - 0s 109us/sample - loss: 0.0145\n",
      "Epoch 88/100\n",
      "101/101 [==============================] - 0s 129us/sample - loss: 0.0138\n",
      "Epoch 89/100\n",
      "101/101 [==============================] - 0s 129us/sample - loss: 0.0130\n",
      "Epoch 90/100\n",
      "101/101 [==============================] - 0s 139us/sample - loss: 0.0123\n",
      "Epoch 91/100\n",
      "101/101 [==============================] - 0s 178us/sample - loss: 0.0116\n",
      "Epoch 92/100\n",
      "101/101 [==============================] - 0s 119us/sample - loss: 0.0110\n",
      "Epoch 93/100\n",
      "101/101 [==============================] - 0s 158us/sample - loss: 0.0104\n",
      "Epoch 94/100\n",
      "101/101 [==============================] - 0s 129us/sample - loss: 0.0098\n",
      "Epoch 95/100\n",
      "101/101 [==============================] - 0s 129us/sample - loss: 0.0092\n",
      "Epoch 96/100\n",
      "101/101 [==============================] - 0s 119us/sample - loss: 0.0087\n",
      "Epoch 97/100\n",
      "101/101 [==============================] - 0s 129us/sample - loss: 0.0083\n",
      "Epoch 98/100\n",
      "101/101 [==============================] - 0s 119us/sample - loss: 0.0078\n",
      "Epoch 99/100\n",
      "101/101 [==============================] - ETA: 0s - loss: 0.007 - 0s 129us/sample - loss: 0.0074\n",
      "Epoch 100/100\n",
      "101/101 [==============================] - 0s 109us/sample - loss: 0.0070\n"
     ]
    }
   ],
   "source": [
    "history = model.fit(x, y, nb_epoch = 100, verbose=1)"
   ]
  },
  {
   "cell_type": "markdown",
   "metadata": {
    "ExecuteTime": {
     "end_time": "2019-09-19T09:33:28.251776Z",
     "start_time": "2019-09-19T09:33:28.248778Z"
    }
   },
   "source": [
    "## Model testing\n",
    "We don't have test data right now lets generate some. \n"
   ]
  },
  {
   "cell_type": "code",
   "execution_count": 7,
   "metadata": {
    "ExecuteTime": {
     "end_time": "2019-11-18T16:06:00.492928Z",
     "start_time": "2019-11-18T16:06:00.211087Z"
    }
   },
   "outputs": [
    {
     "name": "stdout",
     "output_type": "stream",
     "text": [
      "4/1 [========================================================================================================================] - 0s 21ms/sample - loss: 30117.7773\n",
      "30117.77734375\n"
     ]
    }
   ],
   "source": [
    "test_x = np.array([1000, 100, 1200, 1900])\n",
    "test_y = 2 * test_x\n",
    "# test_y = keras.utils.to_categorical(test_y, num_classes=2)\n",
    "\n",
    "test = model.evaluate(test_x, test_y) # gives loss and accuracy\n",
    "print(test)"
   ]
  },
  {
   "cell_type": "code",
   "execution_count": 8,
   "metadata": {
    "ExecuteTime": {
     "end_time": "2019-11-18T16:06:00.628870Z",
     "start_time": "2019-11-18T16:06:00.498923Z"
    }
   },
   "outputs": [
    {
     "data": {
      "text/plain": [
       "array([[185.90181],\n",
       "       [187.79837],\n",
       "       [189.69493],\n",
       "       [191.59149],\n",
       "       [193.48805],\n",
       "       [195.38461],\n",
       "       [197.28116],\n",
       "       [199.17772],\n",
       "       [201.07428],\n",
       "       [202.97083],\n",
       "       [204.86739],\n",
       "       [206.76395],\n",
       "       [208.6605 ],\n",
       "       [210.55707],\n",
       "       [212.45363],\n",
       "       [214.35019],\n",
       "       [216.24675],\n",
       "       [218.14331],\n",
       "       [220.03987],\n",
       "       [221.93642],\n",
       "       [223.83298],\n",
       "       [225.72954],\n",
       "       [227.6261 ],\n",
       "       [229.52266],\n",
       "       [231.41922],\n",
       "       [233.31578],\n",
       "       [235.21234],\n",
       "       [237.1089 ],\n",
       "       [239.00546],\n",
       "       [240.90202],\n",
       "       [242.79858],\n",
       "       [244.69514],\n",
       "       [246.5917 ],\n",
       "       [248.48827],\n",
       "       [250.38483],\n",
       "       [252.28139],\n",
       "       [254.17795],\n",
       "       [256.0745 ],\n",
       "       [257.97104],\n",
       "       [259.86758],\n",
       "       [261.76413],\n",
       "       [263.6607 ],\n",
       "       [265.55725],\n",
       "       [267.45383],\n",
       "       [269.35037],\n",
       "       [271.24695],\n",
       "       [273.1435 ],\n",
       "       [275.04007],\n",
       "       [276.9366 ],\n",
       "       [278.8332 ],\n",
       "       [280.72974],\n",
       "       [282.6263 ],\n",
       "       [284.52286],\n",
       "       [286.41943],\n",
       "       [288.31598],\n",
       "       [290.21255],\n",
       "       [292.1091 ],\n",
       "       [294.00568],\n",
       "       [295.90222],\n",
       "       [297.7988 ],\n",
       "       [299.69534],\n",
       "       [301.59192],\n",
       "       [303.48843],\n",
       "       [305.385  ],\n",
       "       [307.28156],\n",
       "       [309.17813],\n",
       "       [311.07468],\n",
       "       [312.97125],\n",
       "       [314.8678 ],\n",
       "       [316.76437],\n",
       "       [318.66092],\n",
       "       [320.5575 ],\n",
       "       [322.45404],\n",
       "       [324.35062],\n",
       "       [326.24716],\n",
       "       [328.14374],\n",
       "       [330.04028],\n",
       "       [331.93686],\n",
       "       [333.8334 ],\n",
       "       [335.72998],\n",
       "       [337.62653],\n",
       "       [339.5231 ],\n",
       "       [341.41965],\n",
       "       [343.31622],\n",
       "       [345.21277],\n",
       "       [347.10934],\n",
       "       [349.0059 ],\n",
       "       [350.90244],\n",
       "       [352.79898],\n",
       "       [354.69556],\n",
       "       [356.5921 ],\n",
       "       [358.48868],\n",
       "       [360.38522],\n",
       "       [362.2818 ],\n",
       "       [364.17834],\n",
       "       [366.0749 ],\n",
       "       [367.97147],\n",
       "       [369.868  ],\n",
       "       [371.7646 ],\n",
       "       [373.66113]], dtype=float32)"
      ]
     },
     "execution_count": 8,
     "metadata": {},
     "output_type": "execute_result"
    }
   ],
   "source": [
    "predict_input = np.linspace(100, 201, 100)\n",
    "predictions = model.predict(predict_input)\n",
    "predictions\n",
    "model.evaluate(predict_input, 2 * predict_inputcc x ,m,m )"
   ]
  },
  {
   "cell_type": "markdown",
   "metadata": {},
   "source": [
    "## Model Visualizing\n",
    "\n",
    "The history object during trainig process has our visualizing data. We will use matplotlib to visualize."
   ]
  },
  {
   "cell_type": "code",
   "execution_count": 9,
   "metadata": {
    "ExecuteTime": {
     "end_time": "2019-11-18T16:06:00.902714Z",
     "start_time": "2019-11-18T16:06:00.632848Z"
    }
   },
   "outputs": [
    {
     "name": "stdout",
     "output_type": "stream",
     "text": [
      "dict_keys(['loss'])\n"
     ]
    },
    {
     "data": {
      "image/png": "[encoded data removed]",
      "text/plain": [
       "<Figure size 432x288 with 1 Axes>"
      ]
     },
     "metadata": {
      "needs_background": "light"
     },
     "output_type": "display_data"
    }
   ],
   "source": [
    "# list all data in history\n",
    "print(history.history.keys())\n",
    "# # summarize history for accuracy\n",
    "# plt.plot(history.history['acc'])\n",
    "# plt.ylabel('accuracy')\n",
    "# plt.xlabel('epoch')\n",
    "# plt.show()\n",
    "\n",
    "# summarize history for loss\n",
    "plt.plot(history.history['loss'])\n",
    "plt.title('model loss')\n",
    "plt.legend(['loss', 'mae'])\n",
    "plt.ylabel('loss')\n",
    "plt.xlabel('epoch')\n",
    "plt.show()"
   ]
  },
  {
   "cell_type": "markdown",
   "metadata": {},
   "source": [
    "## Model Prediction\n",
    "\n"
   ]
  },
  {
   "cell_type": "code",
   "execution_count": 10,
   "metadata": {
    "ExecuteTime": {
     "end_time": "2019-11-18T16:06:01.040615Z",
     "start_time": "2019-11-18T16:06:00.905692Z"
    }
   },
   "outputs": [
    {
     "data": {
      "text/plain": [
       "array([[ 185.90181],\n",
       "       [1859.005  ]], dtype=float32)"
      ]
     },
     "execution_count": 10,
     "metadata": {},
     "output_type": "execute_result"
    }
   ],
   "source": [
    "test = np.array([100, 1000])\n",
    "model.predict(test)"
   ]
  },
  {
   "cell_type": "markdown",
   "metadata": {
    "ExecuteTime": {
     "end_time": "2019-09-19T11:07:44.885291Z",
     "start_time": "2019-09-19T11:07:44.881294Z"
    }
   },
   "source": [
    "## Model Saving"
   ]
  },
  {
   "cell_type": "code",
   "execution_count": 18,
   "metadata": {
    "ExecuteTime": {
     "end_time": "2019-11-18T16:15:27.640890Z",
     "start_time": "2019-11-18T16:15:27.618911Z"
    }
   },
   "outputs": [],
   "source": [
    "# serialize model to JSON\n",
    "#  the keras model which is trained is defined as 'model' in this example\n",
    "model_json = model.to_json()\n",
    "\n",
    "# model config as json\n",
    "with open(\"day1.json\", \"w\") as json_file:\n",
    "    json_file.write(model_json)\n",
    "\n",
    "# serialize weights to HDF5\n",
    "model.save_weights(\"day1.h5\")"
   ]
  },
  {
   "cell_type": "markdown",
   "metadata": {
    "ExecuteTime": {
     "end_time": "2019-11-18T16:06:56.061294Z",
     "start_time": "2019-11-18T16:06:56.057297Z"
    }
   },
   "source": [
    "## Saved Model"
   ]
  },
  {
   "cell_type": "code",
   "execution_count": 19,
   "metadata": {
    "ExecuteTime": {
     "end_time": "2019-11-18T16:15:28.604231Z",
     "start_time": "2019-11-18T16:15:28.551244Z"
    }
   },
   "outputs": [],
   "source": [
    "from tensorflow.keras.models import load_model\n",
    "from tensorflow.keras.models import model_from_json\n",
    "\n",
    "with open('day1.json', 'r') as f:\n",
    "    model_loaded = model_from_json(f.read())\n",
    "\n",
    "# Load weights into the new model\n",
    "model_loaded.load_weights('day1.h5')"
   ]
  },
  {
   "cell_type": "code",
   "execution_count": 21,
   "metadata": {
    "ExecuteTime": {
     "end_time": "2019-11-18T16:15:41.921705Z",
     "start_time": "2019-11-18T16:15:41.913702Z"
    }
   },
   "outputs": [
    {
     "name": "stdout",
     "output_type": "stream",
     "text": [
      "Model: \"sequential\"\n",
      "_________________________________________________________________\n",
      "Layer (type)                 Output Shape              Param #   \n",
      "=================================================================\n",
      "dense (Dense)                (None, 1)                 2         \n",
      "=================================================================\n",
      "Total params: 2\n",
      "Trainable params: 2\n",
      "Non-trainable params: 0\n",
      "_________________________________________________________________\n"
     ]
    }
   ],
   "source": [
    "model_loaded.summary()"
   ]
  },
  {
   "cell_type": "code",
   "execution_count": 4,
   "metadata": {
    "ExecuteTime": {
     "end_time": "2019-11-19T10:53:37.114510Z",
     "start_time": "2019-11-19T10:53:37.038554Z"
    }
   },
   "outputs": [
    {
     "ename": "AttributeError",
     "evalue": "module 'numpy' has no attribute 'asrray'",
     "output_type": "error",
     "traceback": [
      "\u001b[1;31m---------------------------------------------------------------------------\u001b[0m",
      "\u001b[1;31mAttributeError\u001b[0m                            Traceback (most recent call last)",
      "\u001b[1;32m<ipython-input-4-bcce2d37fc0a>\u001b[0m in \u001b[0;36m<module>\u001b[1;34m\u001b[0m\n\u001b[0;32m      1\u001b[0m \u001b[1;32mimport\u001b[0m \u001b[0mnumpy\u001b[0m \u001b[1;32mas\u001b[0m \u001b[0mnp\u001b[0m\u001b[1;33m\u001b[0m\u001b[1;33m\u001b[0m\u001b[0m\n\u001b[0;32m      2\u001b[0m \u001b[1;32mfrom\u001b[0m \u001b[0msklearn\u001b[0m\u001b[1;33m.\u001b[0m\u001b[0mmetrics\u001b[0m \u001b[1;32mimport\u001b[0m \u001b[0mf1_score\u001b[0m\u001b[1;33m\u001b[0m\u001b[1;33m\u001b[0m\u001b[0m\n\u001b[1;32m----> 3\u001b[1;33m \u001b[0my_true\u001b[0m \u001b[1;33m=\u001b[0m \u001b[0mnp\u001b[0m\u001b[1;33m.\u001b[0m\u001b[0masrray\u001b[0m\u001b[1;33m(\u001b[0m\u001b[1;33m[\u001b[0m\u001b[1;36m0\u001b[0m\u001b[1;33m,\u001b[0m \u001b[1;36m1\u001b[0m\u001b[1;33m,\u001b[0m \u001b[1;36m2\u001b[0m\u001b[1;33m,\u001b[0m \u001b[1;36m0\u001b[0m\u001b[1;33m,\u001b[0m \u001b[1;36m1\u001b[0m\u001b[1;33m,\u001b[0m \u001b[1;36m2\u001b[0m\u001b[1;33m]\u001b[0m\u001b[1;33m)\u001b[0m\u001b[1;33m\u001b[0m\u001b[1;33m\u001b[0m\u001b[0m\n\u001b[0m\u001b[0;32m      4\u001b[0m \u001b[0my_pred\u001b[0m \u001b[1;33m=\u001b[0m \u001b[0mnp\u001b[0m\u001b[1;33m.\u001b[0m\u001b[0marray\u001b[0m\u001b[1;33m(\u001b[0m\u001b[1;33m[\u001b[0m\u001b[1;36m0\u001b[0m\u001b[1;33m,\u001b[0m \u001b[1;36m2\u001b[0m\u001b[1;33m,\u001b[0m \u001b[1;36m1\u001b[0m\u001b[1;33m,\u001b[0m \u001b[1;36m0\u001b[0m\u001b[1;33m,\u001b[0m \u001b[1;36m0\u001b[0m\u001b[1;33m,\u001b[0m \u001b[1;36m1\u001b[0m\u001b[1;33m]\u001b[0m\u001b[1;33m)\u001b[0m\u001b[1;33m\u001b[0m\u001b[1;33m\u001b[0m\u001b[0m\n",
      "\u001b[1;31mAttributeError\u001b[0m: module 'numpy' has no attribute 'asrray'"
     ]
    }
   ],
   "source": [
    "import numpy as np\n",
    "from sklearn.metrics import f1_score\n",
    "y_true = np.asrray([0, 1, 2, 0, 1, 2])\n",
    "y_pred = np.array([0, 2, 1, 0, 0, 1])"
   ]
  },
  {
   "cell_type": "code",
   "execution_count": 6,
   "metadata": {
    "ExecuteTime": {
     "end_time": "2019-11-19T10:53:41.309291Z",
     "start_time": "2019-11-19T10:53:41.293300Z"
    }
   },
   "outputs": [
    {
     "ename": "AttributeError",
     "evalue": "'list' object has no attribute 'shape'",
     "output_type": "error",
     "traceback": [
      "\u001b[1;31m---------------------------------------------------------------------------\u001b[0m",
      "\u001b[1;31mAttributeError\u001b[0m                            Traceback (most recent call last)",
      "\u001b[1;32m<ipython-input-6-5daa6df001e3>\u001b[0m in \u001b[0;36m<module>\u001b[1;34m\u001b[0m\n\u001b[1;32m----> 1\u001b[1;33m \u001b[0my_true\u001b[0m\u001b[1;33m.\u001b[0m\u001b[0mshape\u001b[0m\u001b[1;33m\u001b[0m\u001b[1;33m\u001b[0m\u001b[0m\n\u001b[0m",
      "\u001b[1;31mAttributeError\u001b[0m: 'list' object has no attribute 'shape'"
     ]
    }
   ],
   "source": [
    "y_true.shape"
   ]
  },
  {
   "cell_type": "markdown",
   "metadata": {},
   "source": [
    "Numpy:\n",
    "* array, linspace, random numbers, shuffle\n",
    "* array operations like multiplications, slicing. reshaping, transformation\n",
    "* array saving on .npz format, \n",
    "\n",
    "Matplotlib:\n",
    "* line, scatter plot, image read-write, \n",
    "* image visualization, annotation, histograms\n",
    "* legends, colors etc\n",
    "\n",
    "Keras:\n",
    "* Optimizers and loss functions\n",
    "* Batch, epochs?\n",
    "* Activation functions\n",
    "* Regularization, initializers\n",
    "* Input shape, dimensions\n",
    "\n",
    "Machine Learning:\n",
    "* Samples, features, label, target, regression vs classification\n",
    "* Neural networks:neuron? Weights? bias? input/output shape\n",
    "* R2 score, f1 score, ROC\n",
    "* Epoch, batch, ?\n",
    "* Data types(categorical, numerical)...\n",
    "* Cross validation\n",
    "* Decision tree, random forest\n",
    "\n",
    "Pandas:\n",
    "* Series vs dataframe\n",
    "* Null variable\n",
    "* Mean/median/groupby etc\n",
    "* Visualization"
   ]
  },
  {
   "cell_type": "code",
   "execution_count": null,
   "metadata": {},
   "outputs": [],
   "source": []
  },
  {
   "cell_type": "code",
   "execution_count": null,
   "metadata": {},
   "outputs": [],
   "source": []
  }
 ],
 "metadata": {
  "kernelspec": {
   "display_name": "Python 3",
   "language": "python",
   "name": "python3"
  },
  "language_info": {
   "codemirror_mode": {
    "name": "ipython",
    "version": 3
   },
   "file_extension": ".py",
   "mimetype": "text/x-python",
   "name": "python",
   "nbconvert_exporter": "python",
   "pygments_lexer": "ipython3",
   "version": "3.6.4"
  },
  "latex_envs": {
   "LaTeX_envs_menu_present": true,
   "autoclose": false,
   "autocomplete": true,
   "bibliofile": "biblio.bib",
   "cite_by": "apalike",
   "current_citInitial": 1,
   "eqLabelWithNumbers": true,
   "eqNumInitial": 1,
   "hotkeys": {
    "equation": "Ctrl-E",
    "itemize": "Ctrl-I"
   },
   "labels_anchors": false,
   "latex_user_defs": false,
   "report_style_numbering": false,
   "user_envs_cfg": false
  },
  "nbTranslate": {
   "displayLangs": [
    "*"
   ],
   "hotkey": "alt-t",
   "langInMainMenu": true,
   "sourceLang": "en",
   "targetLang": "fr",
   "useGoogleTranslate": true
  },
  "toc": {
   "base_numbering": 1,
   "nav_menu": {},
   "number_sections": true,
   "sideBar": true,
   "skip_h1_title": false,
   "title_cell": "Table of Contents",
   "title_sidebar": "Contents",
   "toc_cell": false,
   "toc_position": {},
   "toc_section_display": true,
   "toc_window_display": false
  },
  "varInspector": {
   "cols": {
    "lenName": 16,
    "lenType": 16,
    "lenVar": 40
   },
   "kernels_config": {
    "python": {
     "delete_cmd_postfix": "",
     "delete_cmd_prefix": "del ",
     "library": "var_list.py",
     "varRefreshCmd": "print(var_dic_list())"
    },
    "r": {
     "delete_cmd_postfix": ") ",
     "delete_cmd_prefix": "rm(",
     "library": "var_list.r",
     "varRefreshCmd": "cat(var_dic_list()) "
    }
   },
   "types_to_exclude": [
    "module",
    "function",
    "builtin_function_or_method",
    "instance",
    "_Feature"
   ],
   "window_display": false
  }
 },
 "nbformat": 4,
 "nbformat_minor": 2
}

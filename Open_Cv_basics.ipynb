{
 "cells": [
  {
   "cell_type": "code",
   "execution_count": 41,
   "metadata": {},
   "outputs": [],
   "source": [
    "import cv2\n",
    "import numpy as np\n",
    "import matplotlib.pyplot as plt\n"
   ]
  },
  {
   "cell_type": "code",
   "execution_count": 49,
   "metadata": {},
   "outputs": [],
   "source": [
    "image= np.repeat(1,300)\n"
   ]
  },
  {
   "cell_type": "code",
   "execution_count": 50,
   "metadata": {},
   "outputs": [
    {
     "data": {
      "text/plain": [
       "array([1, 1, 1, 1, 1, 1, 1, 1, 1, 1, 1, 1, 1, 1, 1, 1, 1, 1, 1, 1, 1, 1,\n",
       "       1, 1, 1, 1, 1, 1, 1, 1, 1, 1, 1, 1, 1, 1, 1, 1, 1, 1, 1, 1, 1, 1,\n",
       "       1, 1, 1, 1, 1, 1, 1, 1, 1, 1, 1, 1, 1, 1, 1, 1, 1, 1, 1, 1, 1, 1,\n",
       "       1, 1, 1, 1, 1, 1, 1, 1, 1, 1, 1, 1, 1, 1, 1, 1, 1, 1, 1, 1, 1, 1,\n",
       "       1, 1, 1, 1, 1, 1, 1, 1, 1, 1, 1, 1, 1, 1, 1, 1, 1, 1, 1, 1, 1, 1,\n",
       "       1, 1, 1, 1, 1, 1, 1, 1, 1, 1, 1, 1, 1, 1, 1, 1, 1, 1, 1, 1, 1, 1,\n",
       "       1, 1, 1, 1, 1, 1, 1, 1, 1, 1, 1, 1, 1, 1, 1, 1, 1, 1, 1, 1, 1, 1,\n",
       "       1, 1, 1, 1, 1, 1, 1, 1, 1, 1, 1, 1, 1, 1, 1, 1, 1, 1, 1, 1, 1, 1,\n",
       "       1, 1, 1, 1, 1, 1, 1, 1, 1, 1, 1, 1, 1, 1, 1, 1, 1, 1, 1, 1, 1, 1,\n",
       "       1, 1, 1, 1, 1, 1, 1, 1, 1, 1, 1, 1, 1, 1, 1, 1, 1, 1, 1, 1, 1, 1,\n",
       "       1, 1, 1, 1, 1, 1, 1, 1, 1, 1, 1, 1, 1, 1, 1, 1, 1, 1, 1, 1, 1, 1,\n",
       "       1, 1, 1, 1, 1, 1, 1, 1, 1, 1, 1, 1, 1, 1, 1, 1, 1, 1, 1, 1, 1, 1,\n",
       "       1, 1, 1, 1, 1, 1, 1, 1, 1, 1, 1, 1, 1, 1, 1, 1, 1, 1, 1, 1, 1, 1,\n",
       "       1, 1, 1, 1, 1, 1, 1, 1, 1, 1, 1, 1, 1, 1])"
      ]
     },
     "execution_count": 50,
     "metadata": {},
     "output_type": "execute_result"
    }
   ],
   "source": [
    "image"
   ]
  },
  {
   "cell_type": "code",
   "execution_count": 62,
   "metadata": {},
   "outputs": [],
   "source": [
    "image=image.reshape(10,10,3)\n"
   ]
  },
  {
   "cell_type": "code",
   "execution_count": 52,
   "metadata": {},
   "outputs": [],
   "source": [
    "data = image.astype(np.float32)"
   ]
  },
  {
   "cell_type": "code",
   "execution_count": 64,
   "metadata": {},
   "outputs": [
    {
     "data": {
      "text/plain": [
       "array([[[1., 1., 1.],\n",
       "        [1., 1., 1.],\n",
       "        [1., 1., 1.],\n",
       "        [1., 1., 1.],\n",
       "        [1., 1., 1.],\n",
       "        [1., 1., 1.],\n",
       "        [1., 1., 1.],\n",
       "        [1., 1., 1.],\n",
       "        [1., 1., 1.],\n",
       "        [1., 1., 1.]],\n",
       "\n",
       "       [[1., 1., 1.],\n",
       "        [1., 1., 1.],\n",
       "        [1., 1., 1.],\n",
       "        [1., 1., 1.],\n",
       "        [1., 1., 1.],\n",
       "        [1., 1., 1.],\n",
       "        [1., 1., 1.],\n",
       "        [1., 1., 1.],\n",
       "        [1., 1., 1.],\n",
       "        [1., 1., 1.]],\n",
       "\n",
       "       [[1., 1., 1.],\n",
       "        [1., 1., 1.],\n",
       "        [1., 1., 1.],\n",
       "        [1., 1., 1.],\n",
       "        [1., 1., 1.],\n",
       "        [1., 1., 1.],\n",
       "        [1., 1., 1.],\n",
       "        [1., 1., 1.],\n",
       "        [1., 1., 1.],\n",
       "        [1., 1., 1.]],\n",
       "\n",
       "       [[1., 1., 1.],\n",
       "        [1., 1., 1.],\n",
       "        [1., 1., 1.],\n",
       "        [1., 1., 1.],\n",
       "        [1., 1., 1.],\n",
       "        [1., 1., 1.],\n",
       "        [1., 1., 1.],\n",
       "        [1., 1., 1.],\n",
       "        [1., 1., 1.],\n",
       "        [1., 1., 1.]],\n",
       "\n",
       "       [[1., 1., 1.],\n",
       "        [1., 1., 1.],\n",
       "        [1., 1., 1.],\n",
       "        [1., 1., 1.],\n",
       "        [1., 1., 1.],\n",
       "        [1., 1., 1.],\n",
       "        [1., 1., 1.],\n",
       "        [1., 1., 1.],\n",
       "        [1., 1., 1.],\n",
       "        [1., 1., 1.]],\n",
       "\n",
       "       [[1., 1., 1.],\n",
       "        [1., 1., 1.],\n",
       "        [1., 1., 1.],\n",
       "        [1., 1., 1.],\n",
       "        [1., 1., 1.],\n",
       "        [1., 1., 1.],\n",
       "        [1., 1., 1.],\n",
       "        [1., 1., 1.],\n",
       "        [1., 1., 1.],\n",
       "        [1., 1., 1.]],\n",
       "\n",
       "       [[1., 1., 1.],\n",
       "        [1., 1., 1.],\n",
       "        [1., 1., 1.],\n",
       "        [1., 1., 1.],\n",
       "        [1., 1., 1.],\n",
       "        [1., 1., 1.],\n",
       "        [1., 1., 1.],\n",
       "        [1., 1., 1.],\n",
       "        [1., 1., 1.],\n",
       "        [1., 1., 1.]],\n",
       "\n",
       "       [[1., 1., 1.],\n",
       "        [1., 1., 1.],\n",
       "        [1., 1., 1.],\n",
       "        [1., 1., 1.],\n",
       "        [1., 1., 1.],\n",
       "        [1., 1., 1.],\n",
       "        [1., 1., 1.],\n",
       "        [1., 1., 1.],\n",
       "        [1., 1., 1.],\n",
       "        [1., 1., 1.]],\n",
       "\n",
       "       [[1., 1., 1.],\n",
       "        [1., 1., 1.],\n",
       "        [1., 1., 1.],\n",
       "        [1., 1., 1.],\n",
       "        [1., 1., 1.],\n",
       "        [1., 1., 1.],\n",
       "        [1., 1., 1.],\n",
       "        [1., 1., 1.],\n",
       "        [1., 1., 1.],\n",
       "        [1., 1., 1.]],\n",
       "\n",
       "       [[1., 1., 1.],\n",
       "        [1., 1., 1.],\n",
       "        [1., 1., 1.],\n",
       "        [1., 1., 1.],\n",
       "        [1., 1., 1.],\n",
       "        [1., 1., 1.],\n",
       "        [1., 1., 1.],\n",
       "        [1., 1., 1.],\n",
       "        [1., 1., 1.],\n",
       "        [1., 1., 1.]]], dtype=float32)"
      ]
     },
     "execution_count": 64,
     "metadata": {},
     "output_type": "execute_result"
    }
   ],
   "source": [
    "data"
   ]
  },
  {
   "cell_type": "code",
   "execution_count": 54,
   "metadata": {},
   "outputs": [
    {
     "data": {
      "text/plain": [
       "<matplotlib.image.AxesImage at 0x18199329438>"
      ]
     },
     "execution_count": 54,
     "metadata": {},
     "output_type": "execute_result"
    },
    {
     "data": {
      "image/png": "[encoded data removed]",
      "text/plain": [
       "<matplotlib.figure.Figure at 0x181992a56d8>"
      ]
     },
     "metadata": {},
     "output_type": "display_data"
    }
   ],
   "source": [
    "plt.imshow(data)\n",
    "# plt.show()"
   ]
  },
  {
   "cell_type": "code",
   "execution_count": 56,
   "metadata": {},
   "outputs": [
    {
     "data": {
      "text/plain": [
       "array([[[177,  13, 250],\n",
       "        [ 11,  35, 234],\n",
       "        [181,  66, 211],\n",
       "        [ 69,  55,  66],\n",
       "        [ 24, 131,  26],\n",
       "        [ 11, 153,  43],\n",
       "        [ 61,  66,  96],\n",
       "        [ 33, 139, 130],\n",
       "        [108, 189, 217],\n",
       "        [222, 193, 140]],\n",
       "\n",
       "       [[180,  28, 108],\n",
       "        [ 41,  10,  42],\n",
       "        [197, 226, 102],\n",
       "        [ 11,  83,   8],\n",
       "        [ 81, 172, 125],\n",
       "        [ 30,  31, 245],\n",
       "        [201,  28, 113],\n",
       "        [219, 196,  43],\n",
       "        [ 27, 191, 141],\n",
       "        [186, 216, 164]],\n",
       "\n",
       "       [[179, 172, 157],\n",
       "        [215,  83,  46],\n",
       "        [ 58, 138, 200],\n",
       "        [ 11, 101,  79],\n",
       "        [122,  81, 138],\n",
       "        [ 63, 183,   0],\n",
       "        [239,  76,  97],\n",
       "        [165, 234, 117],\n",
       "        [  7,  60,  55],\n",
       "        [ 66,  37, 125]],\n",
       "\n",
       "       [[ 49,  20, 224],\n",
       "        [ 22,  99,  57],\n",
       "        [195,  94,   5],\n",
       "        [ 73, 219, 113],\n",
       "        [187,  30, 200],\n",
       "        [237,   4, 201],\n",
       "        [151, 214,  32],\n",
       "        [182, 132,  19],\n",
       "        [ 53,  75,   1],\n",
       "        [141, 249, 136]],\n",
       "\n",
       "       [[ 24, 166,  26],\n",
       "        [133, 236, 136],\n",
       "        [ 34,  74, 107],\n",
       "        [164, 215,  37],\n",
       "        [ 26, 182, 222],\n",
       "        [133, 144, 206],\n",
       "        [214,  70,  85],\n",
       "        [194,   0,  60],\n",
       "        [145,   4,  66],\n",
       "        [ 53, 126, 106]],\n",
       "\n",
       "       [[142, 169,  41],\n",
       "        [178, 111, 108],\n",
       "        [ 71, 116,  44],\n",
       "        [179,  91, 121],\n",
       "        [ 51,  78, 213],\n",
       "        [ 56, 205, 102],\n",
       "        [194, 226,  86],\n",
       "        [ 34,  26, 251],\n",
       "        [201, 159,  56],\n",
       "        [  3, 197, 186]],\n",
       "\n",
       "       [[179, 106,  32],\n",
       "        [232, 124, 228],\n",
       "        [ 80, 166,  67],\n",
       "        [101,  79, 166],\n",
       "        [ 88, 117,  75],\n",
       "        [223, 125, 246],\n",
       "        [203, 115,  92],\n",
       "        [224, 206,  42],\n",
       "        [ 59,  52,  39],\n",
       "        [ 17, 146,  41]],\n",
       "\n",
       "       [[ 50,  28, 247],\n",
       "        [ 38, 199,  11],\n",
       "        [133, 209, 222],\n",
       "        [ 55, 196,  49],\n",
       "        [166,  80, 223],\n",
       "        [109, 127,  98],\n",
       "        [  7,  28, 247],\n",
       "        [164, 218, 131],\n",
       "        [159, 228, 240],\n",
       "        [186, 140, 248]],\n",
       "\n",
       "       [[155, 205, 144],\n",
       "        [ 30,  29, 252],\n",
       "        [ 44, 170,  25],\n",
       "        [209, 226, 150],\n",
       "        [123, 187,   2],\n",
       "        [ 21,  48, 158],\n",
       "        [ 31, 160, 223],\n",
       "        [200,  15, 199],\n",
       "        [215,  43, 150],\n",
       "        [174,  23, 253]],\n",
       "\n",
       "       [[  5, 213, 106],\n",
       "        [196,  32,  66],\n",
       "        [180, 183,  88],\n",
       "        [  8, 162, 199],\n",
       "        [216, 170, 219],\n",
       "        [194, 163, 148],\n",
       "        [ 59, 187,  13],\n",
       "        [157, 117, 161],\n",
       "        [126, 240, 150],\n",
       "        [156,   8, 104]]])"
      ]
     },
     "execution_count": 56,
     "metadata": {},
     "output_type": "execute_result"
    }
   ],
   "source": [
    "Image=np.random.randint(0,255,(10,10,3)) #0 dekhi 255 ko random num (10,10) ko data with 3 channel(RGB)\n",
    "Image"
   ]
  },
  {
   "cell_type": "code",
   "execution_count": 61,
   "metadata": {},
   "outputs": [
    {
     "data": {
      "text/plain": [
       "<matplotlib.image.AxesImage at 0x1819a494710>"
      ]
     },
     "execution_count": 61,
     "metadata": {},
     "output_type": "execute_result"
    },
    {
     "data": {
      "image/png": "[encoded data removed]",
      "text/plain": [
       "<matplotlib.figure.Figure at 0x1819a404d68>"
      ]
     },
     "metadata": {},
     "output_type": "display_data"
    }
   ],
   "source": [
    "plt.imshow(Image[:,:,2])\n",
    "# plt.show()"
   ]
  },
  {
   "cell_type": "code",
   "execution_count": null,
   "metadata": {},
   "outputs": [],
   "source": []
  }
 ],
 "metadata": {
  "kernelspec": {
   "display_name": "Python 3",
   "language": "python",
   "name": "python3"
  },
  "language_info": {
   "codemirror_mode": {
    "name": "ipython",
    "version": 3
   },
   "file_extension": ".py",
   "mimetype": "text/x-python",
   "name": "python",
   "nbconvert_exporter": "python",
   "pygments_lexer": "ipython3",
   "version": "3.6.4"
  }
 },
 "nbformat": 4,
 "nbformat_minor": 2
}

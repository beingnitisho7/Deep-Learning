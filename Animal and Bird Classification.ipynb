{
 "cells": [
  {
   "cell_type": "code",
   "execution_count": 1,
   "metadata": {},
   "outputs": [
    {
     "name": "stderr",
     "output_type": "stream",
     "text": [
      "D:\\Anaconda\\lib\\site-packages\\h5py\\__init__.py:36: FutureWarning: Conversion of the second argument of issubdtype from `float` to `np.floating` is deprecated. In future, it will be treated as `np.float64 == np.dtype(float).type`.\n",
      "  from ._conv import register_converters as _register_converters\n",
      "Using TensorFlow backend.\n"
     ]
    }
   ],
   "source": [
    "import keras\n",
    "import tensorflow\n",
    "import flask\n",
    "import PIL\n"
   ]
  },
  {
   "cell_type": "code",
   "execution_count": 1,
   "metadata": {},
   "outputs": [
    {
     "name": "stdout",
     "output_type": "stream",
     "text": [
      "\n",
      "The following command must be run outside of the IPython shell:\n",
      "\n",
      "    $ pip install --upgrade tensorflow\n",
      "\n",
      "The Python package manager (pip) can only be used from outside of IPython.\n",
      "Please reissue the `pip` command in a separate terminal or command prompt.\n",
      "\n",
      "See the Python documentation for more informations on how to install packages:\n",
      "\n",
      "    https://docs.python.org/3/installing/\n"
     ]
    }
   ],
   "source": []
  },
  {
   "cell_type": "code",
   "execution_count": 4,
   "metadata": {},
   "outputs": [],
   "source": [
    "\n",
    "import matplotlib.pyplot as plt\n",
    "import pandas as pd\n",
    "import numpy as np\n",
    "%matplotlib inline"
   ]
  },
  {
   "cell_type": "code",
   "execution_count": 5,
   "metadata": {},
   "outputs": [],
   "source": [
    "from keras.preprocessing.image import ImageDataGenerator"
   ]
  },
  {
   "cell_type": "code",
   "execution_count": 6,
   "metadata": {},
   "outputs": [],
   "source": [
    "img_gen=ImageDataGenerator(rescale=1/255)"
   ]
  },
  {
   "cell_type": "code",
   "execution_count": 7,
   "metadata": {},
   "outputs": [
    {
     "name": "stdout",
     "output_type": "stream",
     "text": [
      "Found 8005 images belonging to 2 classes.\n",
      "Found 1576 images belonging to 2 classes.\n"
     ]
    },
    {
     "data": {
      "text/plain": [
       "<keras_preprocessing.image.directory_iterator.DirectoryIterator at 0x22f9a6fef60>"
      ]
     },
     "execution_count": 7,
     "metadata": {},
     "output_type": "execute_result"
    }
   ],
   "source": [
    "img_gen.flow_from_directory(r'''D:\\DSAI-April\\Dog and cats\\training_set''')\n",
    "img_gen.flow_from_directory(r'''D:\\DSAI-April\\Dog and cats\\test_set''')"
   ]
  },
  {
   "cell_type": "code",
   "execution_count": 8,
   "metadata": {},
   "outputs": [],
   "source": [
    "from keras.models import Sequential\n",
    "from keras.layers import Dense,Conv2D,Flatten,MaxPool2D,Dropout"
   ]
  },
  {
   "cell_type": "code",
   "execution_count": 9,
   "metadata": {},
   "outputs": [],
   "source": [
    "from keras import optimizers"
   ]
  },
  {
   "cell_type": "code",
   "execution_count": 10,
   "metadata": {},
   "outputs": [
    {
     "name": "stdout",
     "output_type": "stream",
     "text": [
      "WARNING:tensorflow:From D:\\Anaconda\\lib\\site-packages\\tensorflow\\python\\framework\\op_def_library.py:263: colocate_with (from tensorflow.python.framework.ops) is deprecated and will be removed in a future version.\n",
      "Instructions for updating:\n",
      "Colocations handled automatically by placer.\n"
     ]
    }
   ],
   "source": [
    "model=Sequential()\n",
    "model.add(Conv2D(filters=32,kernel_size=(3,3),input_shape=(28,28,1),activation='relu'))\n",
    "model.add(Conv2D(filters=64,kernel_size=(3,3),input_shape=(28,28,1),activation='relu'))\n",
    "model.add(Flatten())\n",
    "model.add(Dense(128,activation='relu'))\n",
    "model.add(Dense(64,activation='relu'))\n",
    "model.add(Dense(2,activation='softmax'))"
   ]
  },
  {
   "cell_type": "code",
   "execution_count": 11,
   "metadata": {},
   "outputs": [],
   "source": [
    "model.compile(loss='categorical_crossentropy'\n",
    "             ,optimizer='adam',metrics=['accuracy'])"
   ]
  },
  {
   "cell_type": "code",
   "execution_count": 12,
   "metadata": {},
   "outputs": [
    {
     "name": "stdout",
     "output_type": "stream",
     "text": [
      "_________________________________________________________________\n",
      "Layer (type)                 Output Shape              Param #   \n",
      "=================================================================\n",
      "conv2d_1 (Conv2D)            (None, 26, 26, 32)        320       \n",
      "_________________________________________________________________\n",
      "conv2d_2 (Conv2D)            (None, 24, 24, 64)        18496     \n",
      "_________________________________________________________________\n",
      "flatten_1 (Flatten)          (None, 36864)             0         \n",
      "_________________________________________________________________\n",
      "dense_1 (Dense)              (None, 128)               4718720   \n",
      "_________________________________________________________________\n",
      "dense_2 (Dense)              (None, 64)                8256      \n",
      "_________________________________________________________________\n",
      "dense_3 (Dense)              (None, 2)                 130       \n",
      "=================================================================\n",
      "Total params: 4,745,922\n",
      "Trainable params: 4,745,922\n",
      "Non-trainable params: 0\n",
      "_________________________________________________________________\n"
     ]
    }
   ],
   "source": [
    "model.summary()"
   ]
  },
  {
   "cell_type": "code",
   "execution_count": 13,
   "metadata": {},
   "outputs": [],
   "source": [
    "input_shape=(28,28,1)"
   ]
  },
  {
   "cell_type": "code",
   "execution_count": 14,
   "metadata": {},
   "outputs": [
    {
     "name": "stdout",
     "output_type": "stream",
     "text": [
      "Found 8005 images belonging to 2 classes.\n",
      "Found 1576 images belonging to 2 classes.\n"
     ]
    }
   ],
   "source": [
    "train_img_gen=img_gen.flow_from_directory(r'''D:\\DSAI-April\\Dog and cats\\training_set''' \n",
    "                            ,target_size=input_shape[:2],batch_size=20,class_mode='categorical',\n",
    "                           color_mode='grayscale')\n",
    "test_img_gen=img_gen.flow_from_directory(r'''D:\\DSAI-April\\Dog and cats\\test_set''' \n",
    "                            ,target_size=input_shape[:2],batch_size=20,class_mode='categorical',\n",
    "                           color_mode='grayscale')"
   ]
  },
  {
   "cell_type": "code",
   "execution_count": 15,
   "metadata": {},
   "outputs": [
    {
     "data": {
      "text/plain": [
       "{'cats': 0, 'dogs': 1}"
      ]
     },
     "execution_count": 15,
     "metadata": {},
     "output_type": "execute_result"
    }
   ],
   "source": [
    "train_img_gen.class_indices"
   ]
  },
  {
   "cell_type": "code",
   "execution_count": 16,
   "metadata": {},
   "outputs": [
    {
     "name": "stdout",
     "output_type": "stream",
     "text": [
      "WARNING:tensorflow:From D:\\Anaconda\\lib\\site-packages\\tensorflow\\python\\ops\\math_ops.py:3066: to_int32 (from tensorflow.python.ops.math_ops) is deprecated and will be removed in a future version.\n",
      "Instructions for updating:\n",
      "Use tf.cast instead.\n",
      "Epoch 1/100\n",
      "100/100 [==============================] - 77s 775ms/step - loss: 0.6977 - acc: 0.5325 - val_loss: 0.6723 - val_acc: 0.5917\n",
      "Epoch 2/100\n",
      "100/100 [==============================] - 71s 706ms/step - loss: 0.6814 - acc: 0.5695 - val_loss: 0.7168 - val_acc: 0.4458\n",
      "Epoch 3/100\n",
      "100/100 [==============================] - 65s 650ms/step - loss: 0.6732 - acc: 0.5820 - val_loss: 0.6133 - val_acc: 0.6875\n",
      "Epoch 4/100\n",
      "100/100 [==============================] - 65s 646ms/step - loss: 0.6752 - acc: 0.5775 - val_loss: 0.6576 - val_acc: 0.5875\n",
      "Epoch 5/100\n",
      "100/100 [==============================] - 22s 223ms/step - loss: 0.6264 - acc: 0.6580 - val_loss: 0.7084 - val_acc: 0.5417\n",
      "Epoch 6/100\n",
      "100/100 [==============================] - 23s 227ms/step - loss: 0.6393 - acc: 0.6380 - val_loss: 0.7622 - val_acc: 0.4458\n",
      "Epoch 7/100\n",
      "100/100 [==============================] - 22s 218ms/step - loss: 0.6240 - acc: 0.6390 - val_loss: 0.6372 - val_acc: 0.6610\n",
      "Epoch 8/100\n",
      "100/100 [==============================] - 22s 223ms/step - loss: 0.6081 - acc: 0.6695 - val_loss: 0.6507 - val_acc: 0.6708\n",
      "Epoch 9/100\n",
      "100/100 [==============================] - 22s 222ms/step - loss: 0.5407 - acc: 0.7295 - val_loss: 0.7346 - val_acc: 0.5625\n",
      "Epoch 10/100\n",
      "100/100 [==============================] - 22s 221ms/step - loss: 0.5161 - acc: 0.7505 - val_loss: 0.5981 - val_acc: 0.6708\n",
      "Epoch 11/100\n",
      "100/100 [==============================] - 22s 222ms/step - loss: 0.5223 - acc: 0.7350 - val_loss: 0.7143 - val_acc: 0.6292\n",
      "Epoch 12/100\n",
      "100/100 [==============================] - 23s 225ms/step - loss: 0.5304 - acc: 0.7445 - val_loss: 0.6111 - val_acc: 0.7042\n",
      "Epoch 13/100\n",
      "100/100 [==============================] - 23s 227ms/step - loss: 0.3856 - acc: 0.8355 - val_loss: 0.6375 - val_acc: 0.6625\n",
      "Epoch 14/100\n",
      "100/100 [==============================] - 22s 221ms/step - loss: 0.3750 - acc: 0.8255 - val_loss: 0.5898 - val_acc: 0.7500\n",
      "Epoch 15/100\n",
      "100/100 [==============================] - 22s 222ms/step - loss: 0.3813 - acc: 0.8350 - val_loss: 0.7205 - val_acc: 0.6625\n",
      "Epoch 16/100\n",
      "100/100 [==============================] - 23s 233ms/step - loss: 0.3742 - acc: 0.8345 - val_loss: 0.6282 - val_acc: 0.7000\n",
      "Epoch 17/100\n",
      "100/100 [==============================] - 21s 214ms/step - loss: 0.1915 - acc: 0.9260 - val_loss: 1.0723 - val_acc: 0.6583\n",
      "Epoch 18/100\n",
      "100/100 [==============================] - 23s 229ms/step - loss: 0.1846 - acc: 0.9305 - val_loss: 0.7023 - val_acc: 0.7375\n",
      "Epoch 19/100\n",
      "100/100 [==============================] - 21s 209ms/step - loss: 0.1710 - acc: 0.9305 - val_loss: 1.1971 - val_acc: 0.6375\n",
      "Epoch 20/100\n",
      "100/100 [==============================] - 20s 199ms/step - loss: 0.1966 - acc: 0.9200 - val_loss: 0.7565 - val_acc: 0.6822\n",
      "Epoch 21/100\n",
      "100/100 [==============================] - 20s 196ms/step - loss: 0.0574 - acc: 0.9825 - val_loss: 1.3646 - val_acc: 0.6917\n",
      "Epoch 22/100\n",
      "100/100 [==============================] - 20s 196ms/step - loss: 0.0482 - acc: 0.9825 - val_loss: 1.3268 - val_acc: 0.6917\n",
      "Epoch 23/100\n",
      "100/100 [==============================] - 21s 208ms/step - loss: 0.0481 - acc: 0.9865 - val_loss: 1.1800 - val_acc: 0.6792\n",
      "Epoch 24/100\n",
      "100/100 [==============================] - 20s 197ms/step - loss: 0.0762 - acc: 0.9725 - val_loss: 1.3184 - val_acc: 0.6500\n",
      "Epoch 25/100\n",
      "100/100 [==============================] - 21s 209ms/step - loss: 0.0203 - acc: 0.9940 - val_loss: 1.8336 - val_acc: 0.6583\n",
      "Epoch 26/100\n",
      "100/100 [==============================] - 21s 208ms/step - loss: 0.0227 - acc: 0.9925 - val_loss: 1.7325 - val_acc: 0.6792\n",
      "Epoch 27/100\n",
      "100/100 [==============================] - 20s 200ms/step - loss: 0.0233 - acc: 0.9915 - val_loss: 1.4850 - val_acc: 0.6949\n",
      "Epoch 28/100\n",
      "100/100 [==============================] - 20s 201ms/step - loss: 0.0785 - acc: 0.9740 - val_loss: 1.1810 - val_acc: 0.6708\n",
      "Epoch 29/100\n",
      "100/100 [==============================] - 20s 197ms/step - loss: 0.0287 - acc: 0.9885 - val_loss: 1.8645 - val_acc: 0.6875\n",
      "Epoch 30/100\n",
      "100/100 [==============================] - 20s 202ms/step - loss: 0.0261 - acc: 0.9915 - val_loss: 1.9159 - val_acc: 0.6500\n",
      "Epoch 31/100\n",
      "100/100 [==============================] - 20s 199ms/step - loss: 0.0468 - acc: 0.9860 - val_loss: 2.4885 - val_acc: 0.5667\n",
      "Epoch 32/100\n",
      "100/100 [==============================] - 20s 205ms/step - loss: 0.0471 - acc: 0.9825 - val_loss: 2.1368 - val_acc: 0.6292\n",
      "Epoch 33/100\n",
      "100/100 [==============================] - 20s 198ms/step - loss: 0.0094 - acc: 0.9975 - val_loss: 1.7347 - val_acc: 0.7203\n",
      "Epoch 34/100\n",
      "100/100 [==============================] - 20s 198ms/step - loss: 0.0195 - acc: 0.9930 - val_loss: 1.5825 - val_acc: 0.7375\n",
      "Epoch 35/100\n",
      "100/100 [==============================] - 20s 200ms/step - loss: 0.0160 - acc: 0.9920 - val_loss: 2.0433 - val_acc: 0.6333\n",
      "Epoch 36/100\n",
      "100/100 [==============================] - 20s 197ms/step - loss: 0.0356 - acc: 0.9900 - val_loss: 1.9710 - val_acc: 0.6750\n",
      "Epoch 37/100\n",
      "100/100 [==============================] - 20s 198ms/step - loss: 0.0102 - acc: 0.9970 - val_loss: 1.6613 - val_acc: 0.6917\n",
      "Epoch 38/100\n",
      "100/100 [==============================] - 20s 197ms/step - loss: 0.0070 - acc: 0.9980 - val_loss: 2.0589 - val_acc: 0.6750\n",
      "Epoch 39/100\n",
      "100/100 [==============================] - 21s 211ms/step - loss: 0.0078 - acc: 0.9990 - val_loss: 2.3698 - val_acc: 0.6500\n",
      "Epoch 40/100\n",
      "100/100 [==============================] - 20s 197ms/step - loss: 0.0227 - acc: 0.9930 - val_loss: 1.9421 - val_acc: 0.6949\n",
      "Epoch 41/100\n",
      "100/100 [==============================] - 20s 196ms/step - loss: 0.0085 - acc: 0.9980 - val_loss: 2.2128 - val_acc: 0.6542\n",
      "Epoch 42/100\n",
      "100/100 [==============================] - 20s 203ms/step - loss: 0.0162 - acc: 0.9930 - val_loss: 1.4051 - val_acc: 0.7292\n",
      "Epoch 43/100\n",
      "100/100 [==============================] - 21s 206ms/step - loss: 0.0077 - acc: 0.9975 - val_loss: 1.9615 - val_acc: 0.6750\n",
      "Epoch 44/100\n",
      "100/100 [==============================] - 20s 201ms/step - loss: 0.0264 - acc: 0.9900 - val_loss: 2.7578 - val_acc: 0.5875\n",
      "Epoch 45/100\n",
      "100/100 [==============================] - 20s 199ms/step - loss: 0.0138 - acc: 0.9945 - val_loss: 2.1846 - val_acc: 0.6375\n",
      "Epoch 46/100\n",
      "100/100 [==============================] - 20s 202ms/step - loss: 0.0038 - acc: 0.9990 - val_loss: 2.1092 - val_acc: 0.6542\n",
      "Epoch 47/100\n",
      "100/100 [==============================] - 20s 198ms/step - loss: 0.0108 - acc: 0.9960 - val_loss: 2.4697 - val_acc: 0.6610\n",
      "Epoch 48/100\n",
      "100/100 [==============================] - 20s 202ms/step - loss: 0.0217 - acc: 0.9940 - val_loss: 1.6999 - val_acc: 0.6958\n",
      "Epoch 49/100\n",
      "100/100 [==============================] - 20s 196ms/step - loss: 0.0131 - acc: 0.9955 - val_loss: 1.9406 - val_acc: 0.6917\n",
      "Epoch 50/100\n",
      "100/100 [==============================] - 20s 201ms/step - loss: 0.0154 - acc: 0.9955 - val_loss: 1.8644 - val_acc: 0.6750\n",
      "Epoch 51/100\n",
      "100/100 [==============================] - 20s 201ms/step - loss: 0.0271 - acc: 0.9910 - val_loss: 2.3776 - val_acc: 0.7000\n",
      "Epoch 52/100\n",
      "100/100 [==============================] - 20s 199ms/step - loss: 0.0272 - acc: 0.9935 - val_loss: 2.5146 - val_acc: 0.6333\n",
      "Epoch 53/100\n",
      "100/100 [==============================] - 20s 197ms/step - loss: 0.0097 - acc: 0.9980 - val_loss: 2.3383 - val_acc: 0.6780\n",
      "Epoch 54/100\n",
      "100/100 [==============================] - 20s 202ms/step - loss: 0.0088 - acc: 0.9970 - val_loss: 2.1796 - val_acc: 0.7292\n",
      "Epoch 55/100\n",
      "100/100 [==============================] - 20s 200ms/step - loss: 0.0050 - acc: 0.9985 - val_loss: 2.3537 - val_acc: 0.6708\n",
      "Epoch 56/100\n",
      "100/100 [==============================] - 21s 211ms/step - loss: 0.0151 - acc: 0.9945 - val_loss: 1.7946 - val_acc: 0.7208\n",
      "Epoch 57/100\n",
      "100/100 [==============================] - 20s 201ms/step - loss: 0.0095 - acc: 0.9965 - val_loss: 2.1677 - val_acc: 0.6833\n",
      "Epoch 58/100\n",
      "100/100 [==============================] - 20s 202ms/step - loss: 0.0210 - acc: 0.9940 - val_loss: 2.3267 - val_acc: 0.6917\n",
      "Epoch 59/100\n"
     ]
    },
    {
     "name": "stdout",
     "output_type": "stream",
     "text": [
      "100/100 [==============================] - 20s 198ms/step - loss: 0.0357 - acc: 0.9890 - val_loss: 2.6743 - val_acc: 0.6333\n",
      "Epoch 60/100\n",
      "100/100 [==============================] - 20s 200ms/step - loss: 0.0206 - acc: 0.9930 - val_loss: 2.2228 - val_acc: 0.6568\n",
      "Epoch 61/100\n",
      "100/100 [==============================] - 20s 199ms/step - loss: 0.0052 - acc: 0.9980 - val_loss: 2.4746 - val_acc: 0.6750\n",
      "Epoch 62/100\n",
      "100/100 [==============================] - 20s 201ms/step - loss: 0.0087 - acc: 0.9980 - val_loss: 1.8530 - val_acc: 0.7250\n",
      "Epoch 63/100\n",
      "100/100 [==============================] - 20s 200ms/step - loss: 0.0017 - acc: 0.9995 - val_loss: 2.2555 - val_acc: 0.6667\n",
      "Epoch 64/100\n",
      "100/100 [==============================] - 20s 202ms/step - loss: 0.0039 - acc: 0.9985 - val_loss: 2.0738 - val_acc: 0.7292\n",
      "Epoch 65/100\n",
      "100/100 [==============================] - 19s 195ms/step - loss: 7.3024e-04 - acc: 1.0000 - val_loss: 2.7143 - val_acc: 0.6500\n",
      "Epoch 66/100\n",
      "100/100 [==============================] - 19s 195ms/step - loss: 5.6536e-04 - acc: 1.0000 - val_loss: 2.6160 - val_acc: 0.6483\n",
      "Epoch 67/100\n",
      "100/100 [==============================] - 20s 198ms/step - loss: 0.0202 - acc: 0.9945 - val_loss: 2.1432 - val_acc: 0.6875\n",
      "Epoch 68/100\n",
      "100/100 [==============================] - 22s 222ms/step - loss: 0.0126 - acc: 0.9955 - val_loss: 2.1846 - val_acc: 0.6542\n",
      "Epoch 69/100\n",
      "100/100 [==============================] - 19s 193ms/step - loss: 0.0016 - acc: 1.0000 - val_loss: 2.5730 - val_acc: 0.6542\n",
      "Epoch 70/100\n",
      "100/100 [==============================] - 21s 210ms/step - loss: 0.0079 - acc: 0.9985 - val_loss: 2.4093 - val_acc: 0.7042\n",
      "Epoch 71/100\n",
      "100/100 [==============================] - 20s 204ms/step - loss: 0.0139 - acc: 0.9960 - val_loss: 2.2386 - val_acc: 0.6583\n",
      "Epoch 72/100\n",
      "100/100 [==============================] - 20s 205ms/step - loss: 0.0123 - acc: 0.9965 - val_loss: 2.2658 - val_acc: 0.6708\n",
      "Epoch 73/100\n",
      "100/100 [==============================] - 20s 199ms/step - loss: 0.0022 - acc: 0.9995 - val_loss: 1.8854 - val_acc: 0.7288\n",
      "Epoch 74/100\n",
      "100/100 [==============================] - 21s 208ms/step - loss: 0.0014 - acc: 0.9995 - val_loss: 2.2353 - val_acc: 0.6750\n",
      "Epoch 75/100\n",
      "100/100 [==============================] - 20s 200ms/step - loss: 0.0010 - acc: 0.9995 - val_loss: 2.9242 - val_acc: 0.6583\n",
      "Epoch 76/100\n",
      "100/100 [==============================] - 20s 200ms/step - loss: 4.8876e-04 - acc: 1.0000 - val_loss: 2.7256 - val_acc: 0.6708\n",
      "Epoch 77/100\n",
      "100/100 [==============================] - 20s 199ms/step - loss: 3.6598e-04 - acc: 1.0000 - val_loss: 2.9625 - val_acc: 0.6500\n",
      "Epoch 78/100\n",
      "100/100 [==============================] - 20s 202ms/step - loss: 2.1225e-04 - acc: 1.0000 - val_loss: 2.2402 - val_acc: 0.6833\n",
      "Epoch 79/100\n",
      "100/100 [==============================] - 20s 200ms/step - loss: 1.5185e-04 - acc: 1.0000 - val_loss: 2.5879 - val_acc: 0.6822\n",
      "Epoch 80/100\n",
      "100/100 [==============================] - 20s 201ms/step - loss: 7.0510e-05 - acc: 1.0000 - val_loss: 2.6403 - val_acc: 0.6708\n",
      "Epoch 81/100\n",
      "100/100 [==============================] - 20s 200ms/step - loss: 4.9834e-05 - acc: 1.0000 - val_loss: 2.7130 - val_acc: 0.6458\n",
      "Epoch 82/100\n",
      "100/100 [==============================] - 22s 221ms/step - loss: 4.2223e-05 - acc: 1.0000 - val_loss: 2.6887 - val_acc: 0.6625\n",
      "Epoch 83/100\n",
      "100/100 [==============================] - 20s 203ms/step - loss: 4.1749e-05 - acc: 1.0000 - val_loss: 2.7154 - val_acc: 0.6750\n",
      "Epoch 84/100\n",
      "100/100 [==============================] - 21s 206ms/step - loss: 3.7467e-05 - acc: 1.0000 - val_loss: 2.3857 - val_acc: 0.7042\n",
      "Epoch 85/100\n",
      "100/100 [==============================] - 20s 199ms/step - loss: 2.9978e-05 - acc: 1.0000 - val_loss: 2.5665 - val_acc: 0.7083\n",
      "Epoch 86/100\n",
      "100/100 [==============================] - 21s 205ms/step - loss: 3.0758e-05 - acc: 1.0000 - val_loss: 2.6300 - val_acc: 0.6907\n",
      "Epoch 87/100\n",
      "100/100 [==============================] - 20s 202ms/step - loss: 2.7707e-05 - acc: 1.0000 - val_loss: 2.5101 - val_acc: 0.7042\n",
      "Epoch 88/100\n",
      "100/100 [==============================] - 21s 205ms/step - loss: 2.6490e-05 - acc: 1.0000 - val_loss: 2.2860 - val_acc: 0.6875\n",
      "Epoch 89/100\n",
      "100/100 [==============================] - 20s 202ms/step - loss: 2.4506e-05 - acc: 1.0000 - val_loss: 3.1333 - val_acc: 0.6292\n",
      "Epoch 90/100\n",
      "100/100 [==============================] - 20s 201ms/step - loss: 1.8207e-05 - acc: 1.0000 - val_loss: 2.5325 - val_acc: 0.6917\n",
      "Epoch 91/100\n",
      "100/100 [==============================] - 20s 198ms/step - loss: 1.8295e-05 - acc: 1.0000 - val_loss: 2.8236 - val_acc: 0.6792\n",
      "Epoch 92/100\n",
      "100/100 [==============================] - 20s 203ms/step - loss: 2.4415e-05 - acc: 1.0000 - val_loss: 2.8432 - val_acc: 0.6750\n",
      "Epoch 93/100\n",
      "100/100 [==============================] - 20s 199ms/step - loss: 1.6717e-05 - acc: 1.0000 - val_loss: 2.6785 - val_acc: 0.6822\n",
      "Epoch 94/100\n",
      "100/100 [==============================] - 20s 202ms/step - loss: 1.9246e-05 - acc: 1.0000 - val_loss: 2.5729 - val_acc: 0.6917\n",
      "Epoch 95/100\n",
      "100/100 [==============================] - 20s 203ms/step - loss: 1.5181e-05 - acc: 1.0000 - val_loss: 2.3211 - val_acc: 0.7125\n",
      "Epoch 96/100\n",
      "100/100 [==============================] - 21s 206ms/step - loss: 1.5573e-05 - acc: 1.0000 - val_loss: 3.6199 - val_acc: 0.6083\n",
      "Epoch 97/100\n",
      "100/100 [==============================] - 20s 201ms/step - loss: 1.6946e-05 - acc: 1.0000 - val_loss: 2.1758 - val_acc: 0.7292\n",
      "Epoch 98/100\n",
      "100/100 [==============================] - 21s 207ms/step - loss: 1.2881e-05 - acc: 1.0000 - val_loss: 2.5555 - val_acc: 0.6875\n",
      "Epoch 99/100\n",
      "100/100 [==============================] - 19s 191ms/step - loss: 9.6688e-06 - acc: 1.0000 - val_loss: 3.2110 - val_acc: 0.6398\n",
      "Epoch 100/100\n",
      "100/100 [==============================] - 21s 209ms/step - loss: 7.8304e-06 - acc: 1.0000 - val_loss: 2.5896 - val_acc: 0.7000\n"
     ]
    }
   ],
   "source": [
    "history=model.fit_generator(train_img_gen,\n",
    "                            validation_data=test_img_gen,\n",
    "                            validation_steps=12,epochs=100,steps_per_epoch=100)"
   ]
  },
  {
   "cell_type": "code",
   "execution_count": 17,
   "metadata": {},
   "outputs": [
    {
     "data": {
      "image/png": "[encoded data removed]",
      "text/plain": [
       "<matplotlib.figure.Figure at 0x22f9c0a38d0>"
      ]
     },
     "metadata": {},
     "output_type": "display_data"
    },
    {
     "data": {
      "text/plain": [
       "<matplotlib.figure.Figure at 0x22f9aeeeb70>"
      ]
     },
     "metadata": {},
     "output_type": "display_data"
    }
   ],
   "source": [
    "acc=history.history['acc']\n",
    "val_acc=history.history['val_acc']\n",
    "epochs=range(1,len(acc)+1)\n",
    "plt.plot(epochs,acc,'red',label='training accuracy')\n",
    "plt.plot(epochs,val_acc,'blue',label='test accuracy')\n",
    "plt.legend()\n",
    "plt.figure()\n",
    "plt.show()\n"
   ]
  },
  {
   "cell_type": "code",
   "execution_count": 16,
   "metadata": {},
   "outputs": [],
   "source": [
    "model.save('animal_model.h5')"
   ]
  },
  {
   "cell_type": "code",
   "execution_count": 20,
   "metadata": {},
   "outputs": [],
   "source": [
    "import cv2 "
   ]
  },
  {
   "cell_type": "code",
   "execution_count": 21,
   "metadata": {},
   "outputs": [],
   "source": [
    "a=cv2.imread('../Dog and cats/test_set/dogs/dog.4002.jpg',0 )\n"
   ]
  },
  {
   "cell_type": "code",
   "execution_count": 22,
   "metadata": {},
   "outputs": [
    {
     "data": {
      "text/plain": [
       "<matplotlib.image.AxesImage at 0x22f9ae7d358>"
      ]
     },
     "execution_count": 22,
     "metadata": {},
     "output_type": "execute_result"
    },
    {
     "data": {
      "image/png": "[encoded data removed]",
      "text/plain": [
       "<matplotlib.figure.Figure at 0x22f9ae41dd8>"
      ]
     },
     "metadata": {},
     "output_type": "display_data"
    }
   ],
   "source": [
    "plt.imshow(a,cmap='gray')"
   ]
  },
  {
   "cell_type": "code",
   "execution_count": 23,
   "metadata": {},
   "outputs": [],
   "source": [
    "model_json=model.to_json()\n",
    "with open('model.json','w') as json_file:\n",
    "    json_file.write(model_json)\n",
    "    \n",
    "model.save_weights(\"animodel.h5\")"
   ]
  },
  {
   "cell_type": "code",
   "execution_count": null,
   "metadata": {},
   "outputs": [],
   "source": []
  }
 ],
 "metadata": {
  "kernelspec": {
   "display_name": "Python 3",
   "language": "python",
   "name": "python3"
  },
  "language_info": {
   "codemirror_mode": {
    "name": "ipython",
    "version": 3
   },
   "file_extension": ".py",
   "mimetype": "text/x-python",
   "name": "python",
   "nbconvert_exporter": "python",
   "pygments_lexer": "ipython3",
   "version": "3.6.4"
  }
 },
 "nbformat": 4,
 "nbformat_minor": 2
}

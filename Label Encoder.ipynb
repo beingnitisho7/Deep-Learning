{
 "cells": [
  {
   "cell_type": "code",
   "execution_count": 1,
   "metadata": {},
   "outputs": [
    {
     "name": "stdout",
     "output_type": "stream",
     "text": [
      "['cold' 'warm' 'hot' 'middle']\n",
      "['cold' 'hot' 'middle' 'warm']\n",
      "[0 3 1 2]\n",
      "[[0]\n",
      " [3]\n",
      " [1]\n",
      " [2]]\n",
      "[[1. 0. 0. 0.]\n",
      " [0. 0. 0. 1.]\n",
      " [0. 1. 0. 0.]\n",
      " [0. 0. 1. 0.]]\n"
     ]
    }
   ],
   "source": [
    "#Label Encoder and one hot encoder\n",
    "\n",
    "import numpy as np\n",
    "from sklearn.preprocessing import LabelEncoder\n",
    "from sklearn.preprocessing import OneHotEncoder\n",
    "data = ['cold','warm','hot','middle']\n",
    "values = np.array(data)\n",
    "print(values)\n",
    "# integer encode\n",
    "label_encoder = LabelEncoder()\n",
    "label_encoder_model = label_encoder.fit(values)\n",
    "print(label_encoder_model.classes_)\n",
    "label_encoder_temp = label_encoder_model.transform(values)\n",
    "print(label_encoder_temp)\n",
    "\n",
    "onehot_encoder = OneHotEncoder(sparse=False)\n",
    "label_encoder_temp_reshaped = label_encoder_temp.reshape(len(label_encoder_temp), 1)\n",
    "print(label_encoder_temp_reshaped)\n",
    "onehot_encoder = onehot_encoder.fit(label_encoder_temp_reshaped)\n",
    "one_hot_encoded_temp = onehot_encoder.transform(label_encoder_temp_reshaped)\n",
    "print(one_hot_encoded_temp)"
   ]
  },
  {
   "cell_type": "code",
   "execution_count": null,
   "metadata": {},
   "outputs": [],
   "source": []
  }
 ],
 "metadata": {
  "kernelspec": {
   "display_name": "Python 3",
   "language": "python",
   "name": "python3"
  },
  "language_info": {
   "codemirror_mode": {
    "name": "ipython",
    "version": 3
   },
   "file_extension": ".py",
   "mimetype": "text/x-python",
   "name": "python",
   "nbconvert_exporter": "python",
   "pygments_lexer": "ipython3",
   "version": "3.6.4"
  }
 },
 "nbformat": 4,
 "nbformat_minor": 2
}
